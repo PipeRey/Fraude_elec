{
 "cells": [
  {
   "cell_type": "code",
   "execution_count": 1,
   "source": [
    "# Python 3.7.4 \r\n",
    "import pandas as pd\r\n",
    "import numpy as np\r\n",
    "import sqlite3 as sql "
   ],
   "outputs": [],
   "metadata": {}
  },
  {
   "cell_type": "code",
   "execution_count": null,
   "source": [],
   "outputs": [],
   "metadata": {}
  }
 ],
 "metadata": {
  "orig_nbformat": 4,
  "language_info": {
   "name": "python",
   "version": "3.7.4",
   "mimetype": "text/x-python",
   "codemirror_mode": {
    "name": "ipython",
    "version": 3
   },
   "pygments_lexer": "ipython3",
   "nbconvert_exporter": "python",
   "file_extension": ".py"
  },
  "kernelspec": {
   "name": "python3",
   "display_name": "Python 3.7.4 64-bit ('venv')"
  },
  "interpreter": {
   "hash": "b151ce93fa6c35617778f7bf1f94a76dd18cffa110fda8e0ed6eb190c0b23926"
  }
 },
 "nbformat": 4,
 "nbformat_minor": 2
}